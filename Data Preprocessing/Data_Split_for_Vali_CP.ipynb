{
 "cells": [
  {
   "cell_type": "markdown",
   "id": "9c952a3a-f0e7-458e-88db-b4f3c043095b",
   "metadata": {},
   "source": [
    "### Loading data into different directories based on its label"
   ]
  },
  {
   "cell_type": "code",
   "execution_count": 1,
   "id": "ab613b0e-c4d8-4e57-bac5-56fddeb09b92",
   "metadata": {},
   "outputs": [],
   "source": [
    "import matplotlib.pyplot as plt\n",
    "import pandas as pd\n",
    "import os\n",
    "from shutil import copy, rmtree "
   ]
  },
  {
   "cell_type": "code",
   "execution_count": 2,
   "id": "18e132e7-2f71-418c-977f-b9f22789be26",
   "metadata": {},
   "outputs": [],
   "source": [
    "targetnames = ['akiec', 'bcc', 'bkl', 'df', 'mel', 'nv', 'vasc']\n",
    "#class_names = [\"mel\", \"nv\", \"bcc\", \"akiec\", \"bkl\", \"df\", \"vasc\"]"
   ]
  },
  {
   "cell_type": "code",
   "execution_count": 3,
   "id": "4e6f418f-9bcd-422a-bdf9-8896af318a17",
   "metadata": {},
   "outputs": [],
   "source": [
    "# put this notebook in the same file where you put the metadata.csv and the image files \n",
    "val_df = pd.read_csv('ISIC2018_Task3_Validation_GroundTruth.csv')"
   ]
  },
  {
   "cell_type": "code",
   "execution_count": 4,
   "id": "6126640c-3b64-4f44-9400-5ead9ddbabdf",
   "metadata": {},
   "outputs": [],
   "source": [
    "cwd = os.getcwd()\n",
    "val_dir = os.path.join(cwd, 'val_dir_cp')\n",
    "if not os.path.exists(val_dir):\n",
    "    os.mkdir(val_dir)\n",
    "    for i in targetnames:\n",
    "        directory1=val_dir+'/'+i\n",
    "        os.mkdir(directory1)\n",
    "val_list = list(val_df['image'])"
   ]
  },
  {
   "cell_type": "code",
   "execution_count": 5,
   "id": "1fe47e01-61c8-4236-9258-edfb65fd1ce6",
   "metadata": {},
   "outputs": [],
   "source": [
    "val_df.head()\n",
    "val_df.set_index('image', inplace=True)"
   ]
  },
  {
   "cell_type": "code",
   "execution_count": 6,
   "id": "ef24748c-dea3-47ff-a86d-482d802e99e2",
   "metadata": {},
   "outputs": [],
   "source": [
    "val_df['dx'] = val_df.iloc[:, 1:8].idxmax(axis=1).map(lambda x: x.lower())"
   ]
  },
  {
   "cell_type": "code",
   "execution_count": 7,
   "id": "a70986f2-b4fb-48c1-b15a-db2234ac656e",
   "metadata": {},
   "outputs": [
    {
     "data": {
      "text/plain": [
       "False"
      ]
     },
     "execution_count": 7,
     "metadata": {},
     "output_type": "execute_result"
    }
   ],
   "source": [
    "val_df['dx'].isna().any()"
   ]
  },
  {
   "cell_type": "code",
   "execution_count": 9,
   "id": "8f97a350-afb1-4e7e-9408-1f775b1c662d",
   "metadata": {},
   "outputs": [],
   "source": [
    "for image in val_list:\n",
    "    file_name = image+'.jpg'\n",
    "    label = val_df.loc[image, 'dx']\n",
    "\n",
    "    source = os.path.join(cwd, 'ISIC2018_Task3_Validation_Input', file_name)   \n",
    "    if not os.path.exists(source):\n",
    "        print(f\"Image {file_name} not found. Skipping...\")\n",
    "        continue\n",
    "    # copying the image from the source to target file\n",
    "    target = os.path.join(val_dir, label, file_name)\n",
    "\n",
    "    copy(source, target)"
   ]
  }
 ],
 "metadata": {
  "kernelspec": {
   "display_name": "Python 3 (ipykernel)",
   "language": "python",
   "name": "python3"
  },
  "language_info": {
   "codemirror_mode": {
    "name": "ipython",
    "version": 3
   },
   "file_extension": ".py",
   "mimetype": "text/x-python",
   "name": "python",
   "nbconvert_exporter": "python",
   "pygments_lexer": "ipython3",
   "version": "3.8.20"
  }
 },
 "nbformat": 4,
 "nbformat_minor": 5
}
